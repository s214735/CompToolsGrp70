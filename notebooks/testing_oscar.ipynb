{
 "cells": [
  {
   "cell_type": "code",
   "execution_count": null,
   "id": "f33bef84",
   "metadata": {},
   "outputs": [],
   "source": [
    "import pandas as pd\n",
    "import os"
   ]
  },
  {
   "cell_type": "code",
   "execution_count": null,
   "id": "2ba18559",
   "metadata": {},
   "outputs": [],
   "source": [
    "p = os.path.abspath('../data/ebooks.tsv')\n",
    "df = pd.read_csv(p, sep='\\t', quoting=3, compression='zip')"
   ]
  },
  {
   "cell_type": "code",
   "execution_count": 18,
   "id": "7c6c3824",
   "metadata": {},
   "outputs": [
    {
     "name": "stdout",
     "output_type": "stream",
     "text": [
      "2952621\n",
      "1177120\n",
      "481927\n",
      "228291\n",
      "261734\n"
     ]
    }
   ],
   "source": [
    "print(len(df[df['star_rating']==5]))\n",
    "print(len(df[df['star_rating']==4]))\n",
    "print(len(df[df['star_rating']==3]))\n",
    "print(len(df[df['star_rating']==2]))\n",
    "print(len(df[df['star_rating']==1]))"
   ]
  },
  {
   "cell_type": "code",
   "execution_count": 21,
   "id": "a02cc63a",
   "metadata": {},
   "outputs": [
    {
     "name": "stdout",
     "output_type": "stream",
     "text": [
      "Average review length for 5-star ratings: 434.98 characters\n",
      "Average review length for 4-star ratings: 526.41 characters\n",
      "Average review length for 3-star ratings: 533.99 characters\n",
      "Average review length for 2-star ratings: 543.20 characters\n",
      "Average review length for 1-star ratings: 472.76 characters\n"
     ]
    }
   ],
   "source": [
    "# Filter 5-star reviews\n",
    "five_star = df[df['star_rating'] == 5]\n",
    "four_star = df[df['star_rating'] == 4]\n",
    "three_star = df[df['star_rating'] == 3]\n",
    "two_star = df[df['star_rating'] == 2]\n",
    "one_star = df[df['star_rating'] == 1]\n",
    "\n",
    "# Compute average review length (in characters)\n",
    "avg_length5 = five_star['review_body'].str.len().mean()\n",
    "avg_length4 = four_star['review_body'].str.len().mean()\n",
    "avg_length3 = three_star['review_body'].str.len().mean()\n",
    "avg_length2 = two_star['review_body'].str.len().mean()\n",
    "avg_length1 = one_star['review_body'].str.len().mean()\n",
    "\n",
    "print(f\"Average review length for 5-star ratings: {avg_length5:.2f} characters\")\n",
    "print(f\"Average review length for 4-star ratings: {avg_length4:.2f} characters\")\n",
    "print(f\"Average review length for 3-star ratings: {avg_length3:.2f} characters\")\n",
    "print(f\"Average review length for 2-star ratings: {avg_length2:.2f} characters\")\n",
    "print(f\"Average review length for 1-star ratings: {avg_length1:.2f} characters\")\n"
   ]
  },
  {
   "cell_type": "code",
   "execution_count": 23,
   "id": "fda741d9",
   "metadata": {},
   "outputs": [
    {
     "name": "stdout",
     "output_type": "stream",
     "text": [
      "5101693\n"
     ]
    }
   ],
   "source": [
    "print(len(df))\n",
    "# df.head()"
   ]
  }
 ],
 "metadata": {
  "kernelspec": {
   "display_name": "venv",
   "language": "python",
   "name": "python3"
  },
  "language_info": {
   "codemirror_mode": {
    "name": "ipython",
    "version": 3
   },
   "file_extension": ".py",
   "mimetype": "text/x-python",
   "name": "python",
   "nbconvert_exporter": "python",
   "pygments_lexer": "ipython3",
   "version": "3.12.5"
  }
 },
 "nbformat": 4,
 "nbformat_minor": 5
}
