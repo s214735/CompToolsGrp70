{
 "cells": [
  {
   "cell_type": "code",
   "execution_count": null,
   "id": "b5a24c52",
   "metadata": {
    "vscode": {
     "languageId": "plaintext"
    }
   },
   "outputs": [],
   "source": []
  }
 ],
 "metadata": {
  "language_info": {
   "name": "python"
  }
 },
 "nbformat": 4,
 "nbformat_minor": 5
}
