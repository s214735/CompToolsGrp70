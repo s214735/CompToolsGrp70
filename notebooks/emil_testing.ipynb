{
 "cells": [
  {
   "cell_type": "code",
   "execution_count": 14,
   "id": "eda68cc6",
   "metadata": {},
   "outputs": [],
   "source": [
    "import pandas as pd\n",
    "df = pd.read_csv(\"../data/movie_ratings.csv\")"
   ]
  },
  {
   "cell_type": "code",
   "execution_count": 15,
   "id": "88304a9f",
   "metadata": {},
   "outputs": [
    {
     "name": "stdout",
     "output_type": "stream",
     "text": [
      "Index(['userId', 'movieId', 'rating', 'timestamp'], dtype='object')\n",
      "25000095\n"
     ]
    }
   ],
   "source": [
    "print(df.columns)\n",
    "print(len(df))"
   ]
  },
  {
   "cell_type": "code",
   "execution_count": 31,
   "id": "6fec9794",
   "metadata": {},
   "outputs": [
    {
     "name": "stdout",
     "output_type": "stream",
     "text": [
      "Users total: 162,541\n",
      "Selected users: 8,150\n",
      "Rows in filtered df: 8,138,831\n"
     ]
    }
   ],
   "source": [
    "import pandas as pd\n",
    "import numpy as np\n",
    "\n",
    "# 1. compute number of ratings per user\n",
    "counts = df.groupby('userId').size().reset_index(name='n_ratings')\n",
    "\n",
    "# 2. find 75th percentile (threshold)\n",
    "threshold = counts['n_ratings'].quantile(0.95)\n",
    "\n",
    "# 3. select users with counts >= threshold (this may include more than exactly 25% if ties)\n",
    "top_users = counts[counts['n_ratings'] >= threshold]['userId']\n",
    "\n",
    "# 4. filter original dataframe to only include ratings from those users\n",
    "df_top25pct = df[df['userId'].isin(top_users)].copy()\n",
    "\n",
    "# quick checks\n",
    "print(f\"Users total: {len(counts):,}\")\n",
    "print(f\"Selected users: {top_users.nunique():,}\")\n",
    "print(f\"Rows in filtered df: {len(df_top25pct):,}\")"
   ]
  },
  {
   "cell_type": "code",
   "execution_count": 32,
   "id": "bd167cf4",
   "metadata": {},
   "outputs": [
    {
     "name": "stdout",
     "output_type": "stream",
     "text": [
      "Users total: 162,541, keeping top_n = 8128\n",
      "Rows in filtered df: 8,126,643\n"
     ]
    }
   ],
   "source": [
    "# number of users to keep (ceiling to include at least 25%)\n",
    "n_users = len(counts)\n",
    "top_n = int(np.ceil(n_users * 0.05))\n",
    "\n",
    "# sort and take top_n users\n",
    "top_users_exact = counts.sort_values('n_ratings', ascending=False).head(top_n)['userId']\n",
    "\n",
    "# filter original dataframe\n",
    "df_top25_exact = df[df['userId'].isin(top_users_exact)].copy()\n",
    "\n",
    "# checks\n",
    "print(f\"Users total: {n_users:,}, keeping top_n = {top_n}\")\n",
    "print(f\"Rows in filtered df: {len(df_top25_exact):,}\")\n",
    "\n"
   ]
  },
  {
   "cell_type": "code",
   "execution_count": 33,
   "id": "73ef30bb",
   "metadata": {},
   "outputs": [
    {
     "name": "stdout",
     "output_type": "stream",
     "text": [
      "Saved 8,138,831 rows to ../data/movie_ratings_top25pct.csv\n"
     ]
    }
   ],
   "source": [
    "# Save without row index, UTF-8 encoding\n",
    "output_path = \"../data/movie_ratings_top25pct.csv\"\n",
    "df_top25pct.to_csv(output_path, index=False, encoding=\"utf-8\")\n",
    "print(f\"Saved {len(df_top25pct):,} rows to {output_path}\")"
   ]
  }
 ],
 "metadata": {
  "kernelspec": {
   "display_name": "Python 3",
   "language": "python",
   "name": "python3"
  },
  "language_info": {
   "codemirror_mode": {
    "name": "ipython",
    "version": 3
   },
   "file_extension": ".py",
   "mimetype": "text/x-python",
   "name": "python",
   "nbconvert_exporter": "python",
   "pygments_lexer": "ipython3",
   "version": "3.12.0"
  }
 },
 "nbformat": 4,
 "nbformat_minor": 5
}
