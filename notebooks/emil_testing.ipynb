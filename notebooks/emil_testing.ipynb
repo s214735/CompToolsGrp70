{
 "cells": [
  {
   "cell_type": "code",
   "execution_count": null,
   "id": "eda68cc6",
   "metadata": {},
   "outputs": [],
   "source": [
    "import pandas as pd\n",
    "\n",
    "# Option 1: Skip bad lines (faster, but loses data)\n",
    "df = pd.read_csv(\n",
    "    'amazon_reviews_us_Digital_Ebook_Purchase_v1_01.tsv',\n",
    "    sep='\\t',\n",
    "    on_bad_lines='skip',  # Skips problematic lines\n",
    "    quoting=3  # Optional: QUOTE_NONE - helps if quotes are causing issues\n",
    ")\n",
    "\n",
    "print(df.head())\n",
    "print(f\"Loaded {len(df)} rows successfully.\")"
   ]
  },
  {
   "cell_type": "code",
   "execution_count": null,
   "id": "88304a9f",
   "metadata": {},
   "outputs": [],
   "source": [
    "print(df.columns)\n",
    "print(len(df))"
   ]
  }
 ],
 "metadata": {
  "language_info": {
   "name": "python"
  }
 },
 "nbformat": 4,
 "nbformat_minor": 5
}
